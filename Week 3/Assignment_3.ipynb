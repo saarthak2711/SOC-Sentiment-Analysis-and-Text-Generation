{
 "cells": [
  {
   "cell_type": "markdown",
   "metadata": {},
   "source": [
    "## Assignment\n",
    "Yeah ! Let's start with our actual project. In this assignment we will load the database and do preprocessing tasks.\n",
    "Ensure you have following packages installed\n",
    "1. numpy\n",
    "2. pandas  \n",
    "( Hope you are familiar with above two modules well )\n",
    "3. nltk (don't worry, we just need this to remove stopwords while preprocessing)\n",
    "4. tensorflow\n",
    "5. keras\n",
    "6. scikit-learn"
   ]
  },
  {
   "cell_type": "code",
   "execution_count": 1,
   "metadata": {},
   "outputs": [
    {
     "name": "stderr",
     "output_type": "stream",
     "text": [
      "[nltk_data] Downloading package stopwords to\n",
      "[nltk_data]     C:\\Users\\saart\\AppData\\Roaming\\nltk_data...\n",
      "[nltk_data]   Package stopwords is already up-to-date!\n",
      "[nltk_data] Downloading package punkt to\n",
      "[nltk_data]     C:\\Users\\saart\\AppData\\Roaming\\nltk_data...\n",
      "[nltk_data]   Package punkt is already up-to-date!\n"
     ]
    },
    {
     "data": {
      "text/plain": [
       "True"
      ]
     },
     "execution_count": 1,
     "metadata": {},
     "output_type": "execute_result"
    }
   ],
   "source": [
    "'''\n",
    "Importing essential libraries and functions\n",
    "'''\n",
    "import numpy as np\n",
    "import pandas as pd\n",
    "import re\n",
    "import nltk\n",
    "from nltk.corpus import stopwords\n",
    "from nltk.tokenize import word_tokenize\n",
    "import tensorflow as tf\n",
    "from tensorflow.keras.preprocessing.text import Tokenizer\n",
    "from tensorflow.keras.preprocessing.sequence import pad_sequences\n",
    "from sklearn.model_selection import train_test_split\n",
    "import io\n",
    "import json\n",
    "nltk.download('stopwords')\n",
    "nltk.download('punkt')"
   ]
  },
  {
   "cell_type": "markdown",
   "metadata": {},
   "source": [
    "## 1. Loading the IMDB Reviews Dataset"
   ]
  },
  {
   "cell_type": "code",
   "execution_count": 2,
   "metadata": {},
   "outputs": [
    {
     "name": "stdout",
     "output_type": "stream",
     "text": [
      "review       probably my all-time favorite movie, a story o...\n",
      "sentiment                                             positive\n",
      "Name: 5, dtype: object\n"
     ]
    }
   ],
   "source": [
    "# TODO:\n",
    "'''\n",
    "Using pandas load the imdb reviews csv file\n",
    "Analyse its shape and columns\n",
    "Check for missing data and remove those rows\n",
    "'''\n",
    "df = pd.read_csv(\"IMDB_Dataset.csv\")\n",
    "df.dropna(inplace = True)\n",
    "df['review'] = df['review'].str.lower()\n",
    "print(df.loc[5])"
   ]
  },
  {
   "cell_type": "markdown",
   "metadata": {},
   "source": [
    "## 2. Data Preprocessing"
   ]
  },
  {
   "cell_type": "code",
   "execution_count": 3,
   "metadata": {},
   "outputs": [],
   "source": [
    "#TODO : Complete the function to preprocess the text data\n",
    "\n",
    "def preprocessing(sentence):\n",
    "    # First make the sentence lowercase\n",
    "    sentence = sentence.lower()\n",
    "    \n",
    "    # Remove all html tags from the sentence i.e replace anything between <> with space\n",
    "    # Hint use Regular Expression i.e. re.sub()\n",
    "    sentence = re.sub(r'<.*?>',\" \",sentence)\n",
    "    \n",
    "    \n",
    "    # Remove all special characters i.e. anything other than alphabets and numbers. Replace them with space\n",
    "    special = r'[^a-zA-Z0-9\\s]'\n",
    "    sentence = re.sub(special,\" \",sentence)\n",
    "    # Remove all single characters i.e. a-z and A-Z and Replace them with space\n",
    "    single = r'\\b[a-zA-Z]\\b'\n",
    "    sentence = re.sub(single,\" \",sentence)\n",
    "    # Remove all multiple spaces and replace them with single space\n",
    "    sentence = re.sub(\"\\s+\",\" \",sentence)\n",
    "    # Use the nltk library to remove all stopwords from the sentence\n",
    "    # stopwords are the words like and, the, is, are etc.\n",
    "    words = word_tokenize(sentence)\n",
    "    stop_words = set(stopwords.words('english'))\n",
    "    sentence = [word for word in words if word not in stop_words]\n",
    "    sentence = ' '.join(sentence)\n",
    "\n",
    "       \n",
    "    # return the sentence\n",
    "    return(sentence)\n"
   ]
  },
  {
   "cell_type": "code",
   "execution_count": 4,
   "metadata": {},
   "outputs": [],
   "source": [
    "# TODO :\n",
    "# Call the preprocessing function for each review in the dataframe and\n",
    "# save the results in a new list of preprocessed_reviews\n",
    "# This list will be your input to the neural network\n",
    "# We will call this list as X from now on\n",
    "df['preprocessed_reviews'] = df['review'].apply(preprocessing)\n",
    "X = df['preprocessed_reviews'].tolist()\n"
   ]
  },
  {
   "cell_type": "code",
   "execution_count": 12,
   "metadata": {},
   "outputs": [],
   "source": [
    "\n",
    "# TODO :\n",
    "# Convert sentiment column in the dataframe to numbers\n",
    "# Convert positive to 1 and negative to 0 and store it in numpy array\n",
    "# We will call this numpy array as y from now on\n",
    "df['sentiment_number'] = df['sentiment'].map({'positive': 1,'negative': 0})\n",
    "y = df['sentiment_number'].tolist()"
   ]
  },
  {
   "cell_type": "code",
   "execution_count": 13,
   "metadata": {},
   "outputs": [],
   "source": [
    "# TODO : Split the data into training and testing (80-20 ratio)\n",
    "# The train set will be used to train our deep learning models \n",
    "# while test set will be used to evaluate how well our model performs \n",
    "X_train,X_test,y_train,y_test = train_test_split(X,y,test_size = 0.2,random_state = 420)"
   ]
  },
  {
   "cell_type": "markdown",
   "metadata": {},
   "source": [
    "## Preparing embedding layer\n",
    "Let's now write the script for our embedding layer. Embedding layer converts our textual data into numeric form. It is then **used as the first layer for the deep learning model like LSTM**.  \n",
    "To know more about word embedding you may refer to following video\n",
    "https://www.youtube.com/watch?v=9S0-OC4LFNo  \n",
    "#### Tokenize the data"
   ]
  },
  {
   "cell_type": "code",
   "execution_count": 14,
   "metadata": {},
   "outputs": [
    {
     "data": {
      "text/plain": [
       "92185"
      ]
     },
     "execution_count": 14,
     "metadata": {},
     "output_type": "execute_result"
    }
   ],
   "source": [
    "# Initialize the tokenizer\n",
    "word_tokenizer = Tokenizer()\n",
    "\n",
    "# TODO: Fit the tokenizer on the training data (X_train)\n",
    "word_tokenizer.fit_on_texts(X_train)\n",
    "\n",
    "# TODO: Convert training data to sequences of integers\n",
    "# Hint: Use texts_to_sequences method\n",
    "X_train_sequences = word_tokenizer.texts_to_sequences(X_train)\n",
    "\n",
    "# TODO: Convert test data to sequences of integers\n",
    "# Hint: Use texts_to_sequences method\n",
    "X_test_sequences = word_tokenizer.texts_to_sequences(X_test)\n",
    "\n",
    "# End TODO\n",
    "# Saving the tokenizer in a json file (Already done for you)\n",
    "# This will be used later for prediction on data in next assignments\n",
    "tokenizer_json = word_tokenizer.to_json()\n",
    "with io.open('b3_tokenizer.json', 'w', encoding='utf-8') as f:\n",
    "    f.write(json.dumps(tokenizer_json, ensure_ascii=False))\n",
    "    \n",
    "# Vocab_length is the number of unique words in our dataset\n",
    "# Adding 1 to store dimensions for words for which no pretrained word embeddings exist\n",
    "vocab_length = len(word_tokenizer.word_index) + 1\n",
    "vocab_length"
   ]
  },
  {
   "cell_type": "markdown",
   "metadata": {},
   "source": [
    "#### Padding"
   ]
  },
  {
   "cell_type": "code",
   "execution_count": 15,
   "metadata": {},
   "outputs": [],
   "source": [
    "# Padding all reviews to be of same length 'maxlen' words\n",
    "maxlen = 100\n",
    "# You can try different dimensions like 50, 100, 200 and 300\n",
    "# and see how the model performs in next week\n",
    "\n",
    "# TODO: Pad the training data sequences\n",
    "# Hint: Use pad_sequences with 'post' padding and maxlen=maxlen\n",
    "X_train_padded = pad_sequences(X_train_sequences,padding = 'post', maxlen = maxlen)\n",
    "\n",
    "# TODO: Pad the test data sequences\n",
    "# Hint: Use pad_sequences with 'post' padding and maxlen=maxlen\n",
    "X_test_padded = pad_sequences(X_test_sequences, padding = 'post', maxlen = maxlen)"
   ]
  },
  {
   "cell_type": "markdown",
   "metadata": {},
   "source": [
    "#### Glove Embedding"
   ]
  },
  {
   "cell_type": "code",
   "execution_count": 17,
   "metadata": {},
   "outputs": [
    {
     "name": "stdout",
     "output_type": "stream",
     "text": [
      "Shape of the embedding matrix : (92185, 100)\n"
     ]
    }
   ],
   "source": [
    "# Initialize an empty dictionary for embeddings\n",
    "embeddings_dictionary = dict()\n",
    "\n",
    "# Open the GloVe file (a2_glove.6B.100d.txt) with utf-8 encoding\n",
    "glove_file = open('glove_embeddings.txt', encoding=\"utf8\")\n",
    "\n",
    "for line in glove_file:\n",
    "    records = line.split()\n",
    "    word = records[0]\n",
    "    vector_dimensions = np.asarray(records[1:], dtype='float32')\n",
    "    embeddings_dictionary [word] = vector_dimensions\n",
    "glove_file.close()\n",
    "\n",
    "# TODO : Create an embedding matrix where each row corresponds to the index of the\n",
    "# unique word in the dataset and each column corresponds to the word vector\n",
    "# in the GloVe embedding \n",
    "# So the matrix will have vocab_length rows and maxlen columns\n",
    "embedding_matrix = np.zeros((vocab_length,100))\n",
    "for word,index in word_tokenizer.word_index.items():\n",
    "    if index<vocab_length:\n",
    "        embedding_vector = embeddings_dictionary.get(word)\n",
    "        if embedding_vector is not None:\n",
    "            embedding_matrix[index] = embedding_vector\n",
    "\n",
    "print(\"Shape of the embedding matrix :\", embedding_matrix.shape)\n"
   ]
  }
 ],
 "metadata": {
  "kernelspec": {
   "display_name": "Python 3",
   "language": "python",
   "name": "python3"
  },
  "language_info": {
   "codemirror_mode": {
    "name": "ipython",
    "version": 3
   },
   "file_extension": ".py",
   "mimetype": "text/x-python",
   "name": "python",
   "nbconvert_exporter": "python",
   "pygments_lexer": "ipython3",
   "version": "3.11.5"
  }
 },
 "nbformat": 4,
 "nbformat_minor": 2
}
